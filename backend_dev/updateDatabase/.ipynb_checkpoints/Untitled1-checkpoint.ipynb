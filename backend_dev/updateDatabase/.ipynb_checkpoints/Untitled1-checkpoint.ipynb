{
 "cells": [
  {
   "cell_type": "code",
   "execution_count": 1,
   "id": "894d3583",
   "metadata": {},
   "outputs": [],
   "source": [
    "import requests\n",
    "from bs4 import BeautifulSoup\n",
    "import mysql.connector\n",
    "import pandas as pd\n",
    "import numpy as np\n",
    "\n"
   ]
  },
  {
   "cell_type": "code",
   "execution_count": 2,
   "id": "dd253937",
   "metadata": {},
   "outputs": [],
   "source": [
    "week = 5\n",
    "matchups = []\n",
    "filename = \"../nflApp/app/services/upcomingWeekData.txt\"\n",
    "file = open(filename, \"w\")\n",
    "\n",
    "\n",
    "URL = f\"https://www.pro-football-reference.com/years/2022/week_{week}.htm\"\n",
    "# HEADERS = {\n",
    "#     'User-Agent': 'Safari/537.36',\n",
    "# }\n",
    "#page = requests.get(URL, headers=HEADERS)\n",
    "page = requests.get(URL)\n",
    "soup = BeautifulSoup(page.content, 'html.parser')\n",
    "moreSoup = soup.find(\"div\", id=\"wrap\")\n",
    "someMoreSoup = moreSoup.find(\"div\", {\"class\" : \"game_summaries\"})\n",
    "tables = someMoreSoup.find_all(\"table\", {\"class\" : \"teams\"})\n",
    "\n",
    "for game in tables:\n",
    "    day = game.find(\"tr\", {\"class\" : \"date\"}).text[:3]\n",
    "    teams = game.find_all(\"a\")\n",
    "    awayTeam = teams[0].text\n",
    "    homeTeam = teams[2].text\n",
    "\n",
    "    matchups.append([homeTeam, awayTeam, day])\n",
    "    file.write(homeTeam)\n",
    "    file.write(\"_\")\n",
    "    file.write(awayTeam)\n",
    "    file.write(\"_\")\n",
    "    file.write(day)\n",
    "    file.write(\"\\n\")\n",
    "    file.write(\"FUJDLFJSILFMLSFLSDKFDJFLKDBRO\")\n",
    "\n",
    "\n",
    "file.close()"
   ]
  },
  {
   "cell_type": "code",
   "execution_count": null,
   "id": "7c5aaa0f",
   "metadata": {},
   "outputs": [],
   "source": []
  }
 ],
 "metadata": {
  "kernelspec": {
   "display_name": "Python 3 (ipykernel)",
   "language": "python",
   "name": "python3"
  },
  "language_info": {
   "codemirror_mode": {
    "name": "ipython",
    "version": 3
   },
   "file_extension": ".py",
   "mimetype": "text/x-python",
   "name": "python",
   "nbconvert_exporter": "python",
   "pygments_lexer": "ipython3",
   "version": "3.10.4"
  }
 },
 "nbformat": 4,
 "nbformat_minor": 5
}
